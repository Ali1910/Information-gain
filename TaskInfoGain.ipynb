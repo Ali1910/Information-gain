{
 "cells": [
  {
   "cell_type": "code",
   "execution_count": 1,
   "id": "2452c6b4-ac93-4f1d-9fde-3ab10d52dd2d",
   "metadata": {},
   "outputs": [],
   "source": [
    "import numpy as np\n",
    "import pandas as pd"
   ]
  },
  {
   "cell_type": "code",
   "execution_count": 2,
   "id": "4e98899c-0cee-494a-a876-c91f2afd34eb",
   "metadata": {},
   "outputs": [
    {
     "data": {
      "text/html": [
       "<div>\n",
       "<style scoped>\n",
       "    .dataframe tbody tr th:only-of-type {\n",
       "        vertical-align: middle;\n",
       "    }\n",
       "\n",
       "    .dataframe tbody tr th {\n",
       "        vertical-align: top;\n",
       "    }\n",
       "\n",
       "    .dataframe thead th {\n",
       "        text-align: right;\n",
       "    }\n",
       "</style>\n",
       "<table border=\"1\" class=\"dataframe\">\n",
       "  <thead>\n",
       "    <tr style=\"text-align: right;\">\n",
       "      <th></th>\n",
       "      <th>age</th>\n",
       "      <th>income</th>\n",
       "      <th>student</th>\n",
       "      <th>credit</th>\n",
       "      <th>buy</th>\n",
       "    </tr>\n",
       "  </thead>\n",
       "  <tbody>\n",
       "    <tr>\n",
       "      <th>0</th>\n",
       "      <td>&lt;=30</td>\n",
       "      <td>high</td>\n",
       "      <td>0</td>\n",
       "      <td>fair</td>\n",
       "      <td>0</td>\n",
       "    </tr>\n",
       "    <tr>\n",
       "      <th>1</th>\n",
       "      <td>&lt;=30</td>\n",
       "      <td>high</td>\n",
       "      <td>0</td>\n",
       "      <td>excellent</td>\n",
       "      <td>0</td>\n",
       "    </tr>\n",
       "    <tr>\n",
       "      <th>2</th>\n",
       "      <td>31...41</td>\n",
       "      <td>high</td>\n",
       "      <td>0</td>\n",
       "      <td>fair</td>\n",
       "      <td>1</td>\n",
       "    </tr>\n",
       "    <tr>\n",
       "      <th>3</th>\n",
       "      <td>&lt;40</td>\n",
       "      <td>medium</td>\n",
       "      <td>0</td>\n",
       "      <td>fair</td>\n",
       "      <td>1</td>\n",
       "    </tr>\n",
       "    <tr>\n",
       "      <th>4</th>\n",
       "      <td>&lt;40</td>\n",
       "      <td>low</td>\n",
       "      <td>1</td>\n",
       "      <td>fair</td>\n",
       "      <td>1</td>\n",
       "    </tr>\n",
       "    <tr>\n",
       "      <th>5</th>\n",
       "      <td>&lt;40</td>\n",
       "      <td>low</td>\n",
       "      <td>1</td>\n",
       "      <td>excellent</td>\n",
       "      <td>0</td>\n",
       "    </tr>\n",
       "    <tr>\n",
       "      <th>6</th>\n",
       "      <td>31...41</td>\n",
       "      <td>low</td>\n",
       "      <td>1</td>\n",
       "      <td>excellent</td>\n",
       "      <td>1</td>\n",
       "    </tr>\n",
       "    <tr>\n",
       "      <th>7</th>\n",
       "      <td>&lt;=30</td>\n",
       "      <td>medium</td>\n",
       "      <td>0</td>\n",
       "      <td>fair</td>\n",
       "      <td>0</td>\n",
       "    </tr>\n",
       "    <tr>\n",
       "      <th>8</th>\n",
       "      <td>&lt;=30</td>\n",
       "      <td>low</td>\n",
       "      <td>1</td>\n",
       "      <td>fair</td>\n",
       "      <td>1</td>\n",
       "    </tr>\n",
       "    <tr>\n",
       "      <th>9</th>\n",
       "      <td>&lt;40</td>\n",
       "      <td>medium</td>\n",
       "      <td>1</td>\n",
       "      <td>fair</td>\n",
       "      <td>1</td>\n",
       "    </tr>\n",
       "    <tr>\n",
       "      <th>10</th>\n",
       "      <td>&lt;=30</td>\n",
       "      <td>medium</td>\n",
       "      <td>1</td>\n",
       "      <td>excellent</td>\n",
       "      <td>1</td>\n",
       "    </tr>\n",
       "    <tr>\n",
       "      <th>11</th>\n",
       "      <td>31...41</td>\n",
       "      <td>medium</td>\n",
       "      <td>0</td>\n",
       "      <td>excellent</td>\n",
       "      <td>1</td>\n",
       "    </tr>\n",
       "    <tr>\n",
       "      <th>12</th>\n",
       "      <td>31...41</td>\n",
       "      <td>high</td>\n",
       "      <td>1</td>\n",
       "      <td>fair</td>\n",
       "      <td>1</td>\n",
       "    </tr>\n",
       "    <tr>\n",
       "      <th>13</th>\n",
       "      <td>&lt;40</td>\n",
       "      <td>medium</td>\n",
       "      <td>0</td>\n",
       "      <td>excellent</td>\n",
       "      <td>0</td>\n",
       "    </tr>\n",
       "  </tbody>\n",
       "</table>\n",
       "</div>"
      ],
      "text/plain": [
       "        age  income  student     credit  buy\n",
       "0      <=30    high        0       fair    0\n",
       "1      <=30    high        0  excellent    0\n",
       "2   31...41    high        0       fair    1\n",
       "3       <40  medium        0       fair    1\n",
       "4       <40     low        1       fair    1\n",
       "5       <40     low        1  excellent    0\n",
       "6   31...41     low        1  excellent    1\n",
       "7      <=30  medium        0       fair    0\n",
       "8      <=30     low        1       fair    1\n",
       "9       <40  medium        1       fair    1\n",
       "10     <=30  medium        1  excellent    1\n",
       "11  31...41  medium        0  excellent    1\n",
       "12  31...41    high        1       fair    1\n",
       "13      <40  medium        0  excellent    0"
      ]
     },
     "execution_count": 2,
     "metadata": {},
     "output_type": "execute_result"
    }
   ],
   "source": [
    "df=pd.read_csv(\"Info gain.csv\")\n",
    "df"
   ]
  },
  {
   "cell_type": "markdown",
   "id": "37acc215-727b-4d70-b4d1-ced2dc714938",
   "metadata": {},
   "source": [
    "# Information Gain"
   ]
  },
  {
   "cell_type": "code",
   "execution_count": 3,
   "id": "4342bfb5-76ec-423a-8f19-c0f6bc6879a4",
   "metadata": {},
   "outputs": [],
   "source": [
    "def CalEntropy(success,fail):\n",
    "    if(success==0.0 or fail==0.0):\n",
    "       return 0\n",
    "    else:\n",
    "       return (-success*np.log2(success))+(-fail*np.log2(fail)) "
   ]
  },
  {
   "cell_type": "code",
   "execution_count": 4,
   "id": "34a78c5b-a19c-4908-82f4-75b2e94f9cf6",
   "metadata": {},
   "outputs": [],
   "source": [
    "def InfoGain(data,target):\n",
    "    ones=data[target][data[target]==1] \n",
    "    zeros=df[target][df[target]==0]\n",
    "    probailityofSuccess=len(ones)/(len(ones)+len(zeros))\n",
    "    probailityOfFail=len(zeros)/(len(ones)+len(zeros))\n",
    "    entropyofTarget=CalEntropy(probailityofSuccess,probailityOfFail)\n",
    "    features=data.drop(columns=target)\n",
    "    for feature in features.columns:\n",
    "        categories=features[feature].unique()\n",
    "        totalNumberOfElemntsInFeature=len(features[feature])\n",
    "        EntropyForCategoryOfFeature=[]\n",
    "        ProbablilityForCategoryOfFeature=[]\n",
    "        for category in categories:\n",
    "            values=features[feature][features[feature]==category]\n",
    "            probabliltyOfCategory=(len(values)/totalNumberOfElemntsInFeature)\n",
    "            ProbablilityForCategoryOfFeature.append(probabliltyOfCategory)\n",
    "            ones=data.loc[data[feature] == category, target][data['buy']==1]\n",
    "            zeros=data.loc[data[feature] == category, target][data['buy']==0]\n",
    "            result_of_count={\"1\":len(ones),\"0\":len(zeros)}\n",
    "            successprobability=(result_of_count[\"1\"]/(len(ones)+len(zeros)))\n",
    "            Failprobability=(result_of_count[\"0\"]/(len(ones)+len(zeros)))\n",
    "            entropy=CalEntropy(successprobability,Failprobability)\n",
    "            EntropyForCategoryOfFeature.append(entropy)\n",
    "            print(f\"\"\"\n",
    "            feature:{feature}\n",
    "            probablilty Of {category}:{probabliltyOfCategory}\n",
    "            category:{category}  \n",
    "            success probability:{successprobability}  \n",
    "            Fail probability:{Failprobability} \n",
    "            entropy:{entropy}\"\"\")\n",
    "        sumEntropyMeaure=0\n",
    "        for value1,value2 in zip(EntropyForCategoryOfFeature,ProbablilityForCategoryOfFeature):\n",
    "            entropyMeausre=value1*value2\n",
    "            sumEntropyMeaure+=entropyMeausre\n",
    "        print(f\"entropy of {feature}:{sumEntropyMeaure.round(3)}\")\n",
    "        print(f\"entropyof{target} :{entropyofTarget.round(3)}\")\n",
    "        Gain=entropyofTarget-sumEntropyMeaure\n",
    "        print(f\"Gain of {feature}:{Gain.round(3)}\")"
   ]
  },
  {
   "cell_type": "code",
   "execution_count": 5,
   "id": "844c5f89-0d75-4ff9-96b2-c79b5537a0ca",
   "metadata": {},
   "outputs": [
    {
     "name": "stdout",
     "output_type": "stream",
     "text": [
      "\n",
      "            feature:age\n",
      "            probablilty Of <=30:0.35714285714285715\n",
      "            category:<=30  \n",
      "            success probability:0.4  \n",
      "            Fail probability:0.6 \n",
      "            entropy:0.9709505944546686\n",
      "\n",
      "            feature:age\n",
      "            probablilty Of 31...41:0.2857142857142857\n",
      "            category:31...41  \n",
      "            success probability:1.0  \n",
      "            Fail probability:0.0 \n",
      "            entropy:0\n",
      "\n",
      "            feature:age\n",
      "            probablilty Of <40:0.35714285714285715\n",
      "            category:<40  \n",
      "            success probability:0.6  \n",
      "            Fail probability:0.4 \n",
      "            entropy:0.9709505944546686\n",
      "entropy of age:0.694\n",
      "entropyofbuy :0.94\n",
      "Gain of age:0.247\n",
      "\n",
      "            feature:income\n",
      "            probablilty Of high:0.2857142857142857\n",
      "            category:high  \n",
      "            success probability:0.5  \n",
      "            Fail probability:0.5 \n",
      "            entropy:1.0\n",
      "\n",
      "            feature:income\n",
      "            probablilty Of medium:0.42857142857142855\n",
      "            category:medium  \n",
      "            success probability:0.6666666666666666  \n",
      "            Fail probability:0.3333333333333333 \n",
      "            entropy:0.9182958340544896\n",
      "\n",
      "            feature:income\n",
      "            probablilty Of low:0.2857142857142857\n",
      "            category:low  \n",
      "            success probability:0.75  \n",
      "            Fail probability:0.25 \n",
      "            entropy:0.8112781244591328\n",
      "entropy of income:0.911\n",
      "entropyofbuy :0.94\n",
      "Gain of income:0.029\n",
      "\n",
      "            feature:student\n",
      "            probablilty Of 0:0.5\n",
      "            category:0  \n",
      "            success probability:0.42857142857142855  \n",
      "            Fail probability:0.5714285714285714 \n",
      "            entropy:0.9852281360342515\n",
      "\n",
      "            feature:student\n",
      "            probablilty Of 1:0.5\n",
      "            category:1  \n",
      "            success probability:0.8571428571428571  \n",
      "            Fail probability:0.14285714285714285 \n",
      "            entropy:0.5916727785823275\n",
      "entropy of student:0.788\n",
      "entropyofbuy :0.94\n",
      "Gain of student:0.152\n",
      "\n",
      "            feature:credit\n",
      "            probablilty Of fair:0.5714285714285714\n",
      "            category:fair  \n",
      "            success probability:0.75  \n",
      "            Fail probability:0.25 \n",
      "            entropy:0.8112781244591328\n",
      "\n",
      "            feature:credit\n",
      "            probablilty Of excellent:0.42857142857142855\n",
      "            category:excellent  \n",
      "            success probability:0.5  \n",
      "            Fail probability:0.5 \n",
      "            entropy:1.0\n",
      "entropy of credit:0.892\n",
      "entropyofbuy :0.94\n",
      "Gain of credit:0.048\n"
     ]
    }
   ],
   "source": [
    "InfoGain(df,'buy')"
   ]
  },
  {
   "cell_type": "markdown",
   "id": "c350ec01-9265-411d-b9d9-030be89c7df7",
   "metadata": {},
   "source": [
    "# naive bayse"
   ]
  },
  {
   "cell_type": "code",
   "execution_count": 6,
   "id": "f5f61ad6-e219-422e-b900-24d742b67908",
   "metadata": {},
   "outputs": [],
   "source": [
    "def naiveBayse(data, target,listofvalues):\n",
    "    predictionMap={}\n",
    "    MapOfProbapilitys={}\n",
    "    targets=data[target]\n",
    "    targetvalues=targets.unique().tolist()\n",
    "    features=data.drop(columns=target)\n",
    "    featureColumns=features.columns.tolist()\n",
    "    if(len(listofvalues)!=len(featureColumns)):\n",
    "        return ValueError(\"more features than required\")\n",
    "    else:\n",
    "        targetProbMap=calucalteProbabilityforTarget(targets)\n",
    "        MapOfProbapilitys.update(targetProbMap)\n",
    "        featuresProbMap=calulateProbabilityForfeature(features)\n",
    "        MapOfProbapilitys.update(featuresProbMap)\n",
    "        jointProbmap=calcualteJointProb(features,targets)\n",
    "        MapOfProbapilitys.update(jointProbmap)\n",
    "        for i in targetvalues:\n",
    "            predictionMap[i]=MapOfProbapilitys[f\"target {i}\"]\n",
    "            for j,k in zip(featureColumns,listofvalues):\n",
    "                predictionMap[i]=predictionMap[i]*MapOfProbapilitys[i][j][k]\n",
    "        return predictionMap\n",
    "            \n",
    "    "
   ]
  },
  {
   "cell_type": "code",
   "execution_count": 13,
   "id": "5c7dee22-4eb7-45ad-ac29-23120e2fa2b2",
   "metadata": {},
   "outputs": [
    {
     "data": {
      "text/plain": [
       "{0: 0.0012755102040816328, 1: 0.18596938775510205}"
      ]
     },
     "execution_count": 13,
     "metadata": {},
     "output_type": "execute_result"
    }
   ],
   "source": [
    "naiveBayse(df,'buy',['<40','low',1,'fair'])"
   ]
  },
  {
   "cell_type": "code",
   "execution_count": 10,
   "id": "20a94225-369c-495b-ac36-5e06ae1b6064",
   "metadata": {},
   "outputs": [],
   "source": [
    "def calucalteProbabilityforTarget(targetdata):\n",
    "    targetSize=len(targetdata)\n",
    "    MapOfProbapilitys={}\n",
    "    targetValues=targetdata.unique().tolist()\n",
    "    for i in targetValues:\n",
    "        categoryOfTarget= targetdata[targetdata==i]\n",
    "        prob=len(categoryOfTarget)/targetSize\n",
    "        MapOfProbapilitys[f\"target {i}\"]=prob\n",
    "    return MapOfProbapilitys"
   ]
  },
  {
   "cell_type": "code",
   "execution_count": 11,
   "id": "1f7b8f50-f9d8-4b6b-bb06-8802529477e2",
   "metadata": {},
   "outputs": [],
   "source": [
    "def calulateProbabilityForfeature(features):\n",
    "    columns=features.columns.tolist()\n",
    "    MapOfProbapilitys={}\n",
    "    for i in columns:\n",
    "        feature=features[i]\n",
    "        featuresize=len(feature)\n",
    "        CategoriesOfFeature=feature.unique().tolist()\n",
    "        MapOfProbapilitys[i]={}\n",
    "        for j in CategoriesOfFeature:\n",
    "            categoryOfFeature= feature[feature==j]\n",
    "            prob=len(categoryOfFeature)/featuresize\n",
    "            MapOfProbapilitys[i][j]=prob\n",
    "    return MapOfProbapilitys"
   ]
  },
  {
   "cell_type": "code",
   "execution_count": 12,
   "id": "30b736f9-9584-408d-90fd-b58e838897ea",
   "metadata": {},
   "outputs": [],
   "source": [
    "def calcualteJointProb(features,target):\n",
    "    targets=target.unique().tolist()\n",
    "    columns=features.columns.tolist()\n",
    "    MapOfProbapilitys={}\n",
    "    for i in targets:\n",
    "        MapOfProbapilitys[i]={}\n",
    "        for j in columns:\n",
    "            MapOfProbapilitys[i][j]={}\n",
    "            CategoriesOfFeature=features[j].unique().tolist()\n",
    "            for k in CategoriesOfFeature:\n",
    "                categoryOfFeature= features[j][features[j]==k]\n",
    "                categoryOfFeatureIfTarget=features[j][features[j]==k][target==i]\n",
    "                prob=len(categoryOfFeatureIfTarget)/len(categoryOfFeature)\n",
    "                MapOfProbapilitys[i][j][k]=prob\n",
    "    return MapOfProbapilitys "
   ]
  },
  {
   "cell_type": "code",
   "execution_count": 39,
   "id": "5cba36e9-c739-4755-be79-4dfaf4ca6fe2",
   "metadata": {},
   "outputs": [],
   "source": [
    "def  EuclideanDistance(point1,point2):\n",
    "    if (type(point1)!=type(tuple()) and type(point2)!=type(tuple())):\n",
    "        return \"please enter variables as tuple\"\n",
    "    elif (len(point1)!=2 and len(point2)!=2):\n",
    "        return \"please enter variables as (x,y)\"\n",
    "    else:\n",
    "        x=point1[0]-point2[0]\n",
    "        y=point1[1]-point2[1]\n",
    "        dis=np.sqrt((x**2)+(y**2))\n",
    "        return f\"distance is {dis}\"\n",
    "        \n",
    "\n",
    "\n",
    "        \n",
    "    "
   ]
  },
  {
   "cell_type": "code",
   "execution_count": 40,
   "id": "5e19e82b-bd01-418f-a3ee-ba8ca4a42a5a",
   "metadata": {},
   "outputs": [
    {
     "data": {
      "text/plain": [
       "'distance is 1.4142135623730951'"
      ]
     },
     "execution_count": 40,
     "metadata": {},
     "output_type": "execute_result"
    }
   ],
   "source": [
    "EuclideanDistance((2,3),(3,2))"
   ]
  },
  {
   "cell_type": "code",
   "execution_count": 53,
   "id": "68a00d04-710b-42a6-aaac-fcdbca1d21a4",
   "metadata": {},
   "outputs": [],
   "source": [
    "def calculateDistanceBetweenCenterAndGroup(point,group):\n",
    "    dis={'center':point}\n",
    "    newcenter=calcualteNewCenterofGroup(group)\n",
    "    dis['newcenter']=newcenter\n",
    "    for i in group:\n",
    "        pointdis=EuclideanDistance(point,i)\n",
    "        dis[i]=pointdis\n",
    "    return dis"
   ]
  },
  {
   "cell_type": "code",
   "execution_count": 54,
   "id": "2d09d395-e4d6-4fe9-b20e-9459b250b131",
   "metadata": {},
   "outputs": [
    {
     "data": {
      "text/plain": [
       "{'center': (2, 3),\n",
       " 'newcenter': (3.0, 3.3333333333333335),\n",
       " (2, 3): 'distance is 0.0',\n",
       " (3, 2): 'distance is 1.4142135623730951',\n",
       " (4, 5): 'distance is 2.8284271247461903'}"
      ]
     },
     "execution_count": 54,
     "metadata": {},
     "output_type": "execute_result"
    }
   ],
   "source": [
    "calculateDistanceBetweenCenterAndGroup((2,3),[(2,3),(3,2),(4,5)])"
   ]
  },
  {
   "cell_type": "code",
   "execution_count": 51,
   "id": "94cafccf-a413-434c-943d-654b8aaf6c0c",
   "metadata": {},
   "outputs": [],
   "source": [
    "def calcualteNewCenterofGroup(group):\n",
    "    x=0\n",
    "    y=0\n",
    "    for i in group:\n",
    "        if (type(i)!=type(tuple())):\n",
    "            return \"please enter variables as tuple\"\n",
    "        elif (len(i)!=2 ):\n",
    "            return \"please enter variables as (x,y)\"\n",
    "        else:\n",
    "            x=x+i[0]\n",
    "            y=y+i[1]\n",
    "    return (x/len(group),y/len(group))\n",
    "        \n",
    "           "
   ]
  },
  {
   "cell_type": "code",
   "execution_count": 52,
   "id": "a2540df5-9256-4d3b-97d4-2e3c4f0599f6",
   "metadata": {},
   "outputs": [
    {
     "data": {
      "text/plain": [
       "(3.0, 3.3333333333333335)"
      ]
     },
     "execution_count": 52,
     "metadata": {},
     "output_type": "execute_result"
    }
   ],
   "source": [
    "calcualteNewCenterofGroup([(2,3),(3,2),(4,5)])"
   ]
  },
  {
   "cell_type": "code",
   "execution_count": null,
   "id": "8f109760-9c9b-4ff4-93bc-0f6d0fa4f4e3",
   "metadata": {},
   "outputs": [],
   "source": []
  }
 ],
 "metadata": {
  "kernelspec": {
   "display_name": "Python 3 (ipykernel)",
   "language": "python",
   "name": "python3"
  },
  "language_info": {
   "codemirror_mode": {
    "name": "ipython",
    "version": 3
   },
   "file_extension": ".py",
   "mimetype": "text/x-python",
   "name": "python",
   "nbconvert_exporter": "python",
   "pygments_lexer": "ipython3",
   "version": "3.12.4"
  }
 },
 "nbformat": 4,
 "nbformat_minor": 5
}
